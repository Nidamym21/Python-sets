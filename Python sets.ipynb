{
 "cells": [
  {
   "cell_type": "markdown",
   "id": "be6d46a4-a0ac-4754-8cca-bdc328356780",
   "metadata": {},
   "source": [
    "# Python Sets\n",
    "\n",
    "Python sets are unordered collections of unique elements. Unlike lists or tuples, sets do not allow duplicate values, and they are unordered, meaning the items do not have a specific position or index.\n",
    "\n",
    "## Key Features of Python Sets:\n",
    "- Unique Elements: Sets automatically remove duplicate values.\n",
    "- Unordered: The elements have no defined order and cannot be accessed by an index.\n",
    "- Mutable: You can add or remove items after a set is created, but the elements themselves must be immutable (e.g., strings, numbers, or tuples).\n",
    "\n",
    "\n",
    "# Creating a Set:\n",
    "Sets can be created using curly braces {} or the set() function."
   ]
  },
  {
   "cell_type": "code",
   "execution_count": 2,
   "id": "fbe00e04-fe08-42ca-927d-b2422b6d4f77",
   "metadata": {},
   "outputs": [],
   "source": [
    "# Using curly braces\n",
    "my_set = {1, 2, 3, 4}\n",
    "\n",
    "# Using the set() function\n",
    "another_set = set([1, 2, 3, 4, 2]) \n"
   ]
  },
  {
   "cell_type": "markdown",
   "id": "ab782f59-f9ec-4b38-9fb5-349a2cf6f4b7",
   "metadata": {},
   "source": [
    "## For Example"
   ]
  },
  {
   "cell_type": "code",
   "execution_count": 3,
   "id": "ab1d8245-e14b-46c4-8b35-facc518d2e79",
   "metadata": {},
   "outputs": [
    {
     "name": "stdout",
     "output_type": "stream",
     "text": [
      "{'cherry', 'umbrella', 'box'}\n"
     ]
    }
   ],
   "source": [
    "myset = {\"cherry\", \"box\", \"umbrella\"} \n",
    "print(myset)"
   ]
  },
  {
   "cell_type": "markdown",
   "id": "68b2c476-8bfb-46a1-bc79-efe0d3b1685b",
   "metadata": {},
   "source": [
    "# Duplicate items"
   ]
  },
  {
   "cell_type": "code",
   "execution_count": 5,
   "id": "3879c9d7-4e8a-47ca-be35-11dac3e4d91d",
   "metadata": {},
   "outputs": [
    {
     "name": "stdout",
     "output_type": "stream",
     "text": [
      "{'black', 'violet', 'green', 'yellow', 'blue', 'red', 'orange'}\n"
     ]
    }
   ],
   "source": [
    "colors = {'red','green','yellow','orange','violet','green','orange','black','yellow','black','blue'}\n",
    "print(colors)"
   ]
  },
  {
   "cell_type": "markdown",
   "id": "52488a5d-5c81-40db-b2a6-f053345ff388",
   "metadata": {},
   "source": [
    "# Converting a list to set\n",
    "\n",
    "You can convert a list to a set in Python using the set() function. This will automatically remove any duplicate values from the list, since sets only store unique elements.\n"
   ]
  },
  {
   "cell_type": "code",
   "execution_count": 8,
   "id": "efd06bc3-d8e7-4f30-b016-0709e062dcb5",
   "metadata": {},
   "outputs": [
    {
     "data": {
      "text/plain": [
       "{10, 20, 30, 40, 50}"
      ]
     },
     "execution_count": 8,
     "metadata": {},
     "output_type": "execute_result"
    }
   ],
   "source": [
    "num = set([10,20,30,40,50])\n",
    "set(num)\n",
    "     \n"
   ]
  },
  {
   "cell_type": "code",
   "execution_count": 9,
   "id": "94c59a5f-896d-4ede-90fb-6ae0df4b7c60",
   "metadata": {},
   "outputs": [
    {
     "name": "stdout",
     "output_type": "stream",
     "text": [
      "{'orange', 'apple', 'banana'}\n"
     ]
    }
   ],
   "source": [
    "fruits_list = [\"apple\", \"banana\", \"apple\", \"orange\", \"banana\"]\n",
    "fruits_set = set(fruits_list)\n",
    "print(fruits_set)  "
   ]
  },
  {
   "cell_type": "code",
   "execution_count": 11,
   "id": "329d45a1-4e03-4a2e-a932-b49eb89b3e1d",
   "metadata": {},
   "outputs": [
    {
     "name": "stdout",
     "output_type": "stream",
     "text": [
      "{1, 2.5, 'hello'}\n"
     ]
    }
   ],
   "source": [
    "mixed_list = [1, \"hello\", 1, 2.5, \"hello\", 2.5]\n",
    "mixed_set = set(mixed_list)\n",
    "print(mixed_set)  \n"
   ]
  },
  {
   "cell_type": "code",
   "execution_count": 13,
   "id": "4468c569-2eb4-450e-9de2-2bd6bb3beff3",
   "metadata": {},
   "outputs": [
    {
     "name": "stdout",
     "output_type": "stream",
     "text": [
      "{(1, 2), (3, 4), (5, 6)}\n"
     ]
    }
   ],
   "source": [
    "tuple_list = [(1, 2), (3, 4), (1, 2), (5, 6)]\n",
    "tuple_set = set(tuple_list)\n",
    "print(tuple_set)  \n"
   ]
  },
  {
   "cell_type": "markdown",
   "id": "42d64fdf-879e-4e38-a962-1a8609764813",
   "metadata": {},
   "source": [
    " # Add items\n",
    "\n",
    " You can add items to a set using the add() method in Python.\n",
    "\n",
    "\n",
    "\n",
    "\n",
    "\n",
    "\n",
    " \n",
    " Here's how to add items to the sets from the previous examples:"
   ]
  },
  {
   "cell_type": "code",
   "execution_count": 14,
   "id": "9e58a91e-bb9d-4d0a-b123-592bae0b27ce",
   "metadata": {},
   "outputs": [
    {
     "name": "stdout",
     "output_type": "stream",
     "text": [
      "{'grape', 'apple', 'banana', 'orange'}\n"
     ]
    }
   ],
   "source": [
    "fruits_set = {'orange', 'banana', 'apple'}\n",
    "fruits_set.add(\"grape\")\n",
    "print(fruits_set)  \n"
   ]
  },
  {
   "cell_type": "code",
   "execution_count": 15,
   "id": "783d12b0-4c5b-41b0-9e78-bf6a95a1cc00",
   "metadata": {},
   "outputs": [
    {
     "name": "stdout",
     "output_type": "stream",
     "text": [
      "{1, 2.5, 3, 'hello'}\n"
     ]
    }
   ],
   "source": [
    "mixed_set = {1, 2.5, 'hello'}\n",
    "mixed_set.add(3)\n",
    "print(mixed_set)  \n"
   ]
  },
  {
   "cell_type": "code",
   "execution_count": 16,
   "id": "64b0953e-f17d-4b82-8a8a-ec6be52010e5",
   "metadata": {},
   "outputs": [
    {
     "name": "stdout",
     "output_type": "stream",
     "text": [
      "{(1, 2), (7, 8), (3, 4), (5, 6)}\n"
     ]
    }
   ],
   "source": [
    "tuple_set = {(1, 2), (3, 4), (5, 6)}\n",
    "tuple_set.add((7, 8))\n",
    "print(tuple_set) \n"
   ]
  },
  {
   "cell_type": "markdown",
   "id": "64c306be-e572-4154-91f5-cc33d349f147",
   "metadata": {},
   "source": [
    "# Update sets\n",
    "- You can update a set with multiple items using the update() method. This method adds elements from an iterable (such as a list, tuple, or another set) to the set. \n",
    "\n",
    "- If the items already exist in the set, they are ignored."
   ]
  },
  {
   "cell_type": "code",
   "execution_count": 17,
   "id": "f46ea4fe-37ed-4662-b469-7150a2972af6",
   "metadata": {},
   "outputs": [
    {
     "name": "stdout",
     "output_type": "stream",
     "text": [
      "{'orange', 'grape', 'mango', 'apple', 'banana'}\n"
     ]
    }
   ],
   "source": [
    "fruits_set = {'orange', 'banana', 'apple'}\n",
    "new_fruits = ['grape', 'mango', 'apple']\n",
    "fruits_set.update(new_fruits)\n",
    "print(fruits_set)  \n"
   ]
  },
  {
   "cell_type": "code",
   "execution_count": 18,
   "id": "80540dad-d940-4cfa-8ace-115338c69a1d",
   "metadata": {},
   "outputs": [
    {
     "name": "stdout",
     "output_type": "stream",
     "text": [
      "{40, 10, 50, 20, 30}\n"
     ]
    }
   ],
   "source": [
    "number_set = {10, 20, 30}\n",
    "additional_numbers = (40, 50, 20)\n",
    "number_set.update(additional_numbers)\n",
    "print(number_set) \n"
   ]
  },
  {
   "cell_type": "code",
   "execution_count": 21,
   "id": "5fb42916-c4e9-4546-8d84-b6fac5f65009",
   "metadata": {},
   "outputs": [
    {
     "name": "stdout",
     "output_type": "stream",
     "text": [
      "{(1, 2), (3, 4), (5, 6)}\n"
     ]
    }
   ],
   "source": [
    "tuple_set = {(1, 2), (3, 4)}\n",
    "additional_tuples = {(5, 6), (1, 2)}\n",
    "tuple_set.update(additional_tuples)\n",
    "print(tuple_set)  "
   ]
  },
  {
   "cell_type": "markdown",
   "id": "fc00049a-4fba-4b10-af4e-b4ffbfcfe1a6",
   "metadata": {},
   "source": [
    "# Remove a set element\n",
    "- To remove an element from a set, you can use the remove() or discard() methods. \n",
    "- Both methods serve similar purposes but have different behaviors when the element to be removed is not present in the set."
   ]
  },
  {
   "cell_type": "code",
   "execution_count": 22,
   "id": "cafc604e-14df-4de4-841c-ad94ea6f6b4e",
   "metadata": {},
   "outputs": [
    {
     "name": "stdout",
     "output_type": "stream",
     "text": [
      "{1, 3, 4}\n"
     ]
    }
   ],
   "source": [
    "\n",
    "my_set = {1, 2, 3, 4}\n",
    "my_set.discard(2)\n",
    "print(my_set)  \n",
    "\n",
    "\n"
   ]
  },
  {
   "cell_type": "code",
   "execution_count": 23,
   "id": "ca9232da-21d6-4953-9c42-1c9a12cc4992",
   "metadata": {},
   "outputs": [
    {
     "name": "stdout",
     "output_type": "stream",
     "text": [
      "{'yellow', 'green', 'orange'}\n"
     ]
    }
   ],
   "source": [
    "\n",
    "myset = {\"orange\", \"green\", \"red\",\"yellow\"}\n",
    "myset.remove(\"red\")\n",
    "print(myset)"
   ]
  },
  {
   "cell_type": "markdown",
   "id": "e084dd3a-9fcc-4bf9-8b84-996866993886",
   "metadata": {},
   "source": [
    "# Set operations\n",
    "\n",
    "\n",
    "- Python sets support various operations that are useful for mathematical set theory and data manipulation.\n",
    "\n",
    "-   Here are some common set operations:\n",
    "\n",
    "# 1. Union\n",
    "-  Combines elements from two sets, excluding duplicates.\n",
    "- Method: union() or the | operato"
   ]
  },
  {
   "cell_type": "code",
   "execution_count": 24,
   "id": "0071c98c-462e-41d2-89d0-1fae84f35636",
   "metadata": {},
   "outputs": [
    {
     "name": "stdout",
     "output_type": "stream",
     "text": [
      "{1, 2, 3, 4, 5}\n"
     ]
    }
   ],
   "source": [
    "set1 = {1, 2, 3}\n",
    "set2 = {3, 4, 5}\n",
    "union_set = set1.union(set2)  # or set1 | set2\n",
    "print(union_set)  "
   ]
  },
  {
   "cell_type": "code",
   "execution_count": 25,
   "id": "e9c69442-116a-4741-8227-cc6c7b581486",
   "metadata": {},
   "outputs": [
    {
     "name": "stdout",
     "output_type": "stream",
     "text": [
      "a|b : {35, 41, 43, 12, 19, 57}\n",
      "a.union(b): {35, 41, 43, 12, 19, 57}\n"
     ]
    }
   ],
   "source": [
    "a = {41, 12, 43, 19}\n",
    "b = {35, 43, 57, 19}\n",
    "\n",
    "print(\"a|b :\", a|b)\n",
    "\n",
    "union_set = a.union(b)\n",
    "print(\"a.union(b):\",union_set)"
   ]
  },
  {
   "cell_type": "markdown",
   "id": "adad558e-0a81-47bc-a7f6-11e699078783",
   "metadata": {},
   "source": [
    "# 2. Intersection\n",
    "- Finds common elements between two sets.\n",
    "- Method: intersection() or the & operator"
   ]
  },
  {
   "cell_type": "code",
   "execution_count": 26,
   "id": "7a740ff9-996c-4399-8d37-5c3f2a199e5c",
   "metadata": {},
   "outputs": [
    {
     "name": "stdout",
     "output_type": "stream",
     "text": [
      "{2, 3}\n"
     ]
    }
   ],
   "source": [
    "set1 = {1, 2, 3}\n",
    "set2 = {2, 3, 4}\n",
    "intersection_set = set1.intersection(set2)  # or set1 & set2\n",
    "print(intersection_set)"
   ]
  },
  {
   "cell_type": "code",
   "execution_count": 27,
   "id": "cbdff422-d3a5-45ac-b3de-d3bec5c8d46f",
   "metadata": {},
   "outputs": [
    {
     "name": "stdout",
     "output_type": "stream",
     "text": [
      "a.intersection(b): {43, 60}\n",
      "a & b: {43, 60}\n"
     ]
    }
   ],
   "source": [
    "a = {91, 22, 43, 60}\n",
    "b = {35, 43, 57, 60}\n",
    "\n",
    "print(\"a.intersection(b):\", a.intersection(b) )\n",
    "\n",
    "print(\"a & b:\",a & b)"
   ]
  },
  {
   "cell_type": "markdown",
   "id": "a1c2b241-b1f4-49e0-ac97-4980e812aacf",
   "metadata": {},
   "source": [
    "# 3. Difference\n",
    "- Finds elements in the first set that are not in the second set.\n",
    "- Method: difference() or the - operator"
   ]
  },
  {
   "cell_type": "code",
   "execution_count": 28,
   "id": "18f9fcc4-a48b-4a88-83ea-b46c4328ba4a",
   "metadata": {},
   "outputs": [
    {
     "name": "stdout",
     "output_type": "stream",
     "text": [
      "{1}\n"
     ]
    }
   ],
   "source": [
    "set1 = {1, 2, 3}\n",
    "set2 = {2, 3, 4}\n",
    "difference_set = set1.difference(set2)  # or set1 - set2\n",
    "print(difference_set)  \n"
   ]
  },
  {
   "cell_type": "code",
   "execution_count": 29,
   "id": "ea651a8f-7e3d-47ad-8b2f-1b2a183aa6fa",
   "metadata": {},
   "outputs": [
    {
     "name": "stdout",
     "output_type": "stream",
     "text": [
      "a.difference(b): {91, 22}\n",
      "a - b: {91, 22}\n"
     ]
    }
   ],
   "source": [
    "\n",
    "a = {91, 22, 43, 30}\n",
    "b = {35, 43, 57, 30}\n",
    "\n",
    "print(\"a.difference(b):\", a.difference(b) )\n",
    "\n",
    "print(\"a - b:\",a - b)\n",
    "     "
   ]
  },
  {
   "cell_type": "markdown",
   "id": "84f8854d-c1f3-4044-a9f4-4038b04fcac1",
   "metadata": {},
   "source": [
    "# 4. Symmetric Difference:\n",
    "\n",
    "- Finds elements in either of the sets but not in both.\n",
    "- Method: symmetric_difference() or the ^ operator"
   ]
  },
  {
   "cell_type": "code",
   "execution_count": 30,
   "id": "4c9f09ac-7aba-4a80-b1fa-46d6f4ed042e",
   "metadata": {},
   "outputs": [
    {
     "name": "stdout",
     "output_type": "stream",
     "text": [
      "{1, 4}\n"
     ]
    }
   ],
   "source": [
    "set1 = {1, 2, 3}\n",
    "set2 = {2, 3, 4}\n",
    "symmetric_difference_set = set1.symmetric_difference(set2)  # or set1 ^ set2\n",
    "print(symmetric_difference_set)  \n"
   ]
  },
  {
   "cell_type": "code",
   "execution_count": 31,
   "id": "14762ff5-ddeb-4a6e-8215-18f239ccbb37",
   "metadata": {},
   "outputs": [
    {
     "name": "stdout",
     "output_type": "stream",
     "text": [
      "a.symmetric_difference(b): {0, 1, 22, 57}\n",
      "a ^ b: {0, 1, 22, 57}\n"
     ]
    }
   ],
   "source": [
    "a = {0, 22, 43, 60}\n",
    "b = {1, 43, 57, 60}\n",
    "\n",
    "print(\"a.symmetric_difference(b):\", a.symmetric_difference(b) )\n",
    "\n",
    "print(\"a ^ b:\",a ^ b)\n",
    "     "
   ]
  },
  {
   "cell_type": "markdown",
   "id": "5d6ef571-ff36-4ba7-bc60-570bd5a0dc7f",
   "metadata": {},
   "source": [
    "# 5. Subset\n",
    "- Checks if all elements of one set are in another set.\n",
    "- Method: issubset()"
   ]
  },
  {
   "cell_type": "code",
   "execution_count": 32,
   "id": "82127b62-15e6-4440-8440-79c9d6b9a43f",
   "metadata": {},
   "outputs": [
    {
     "name": "stdout",
     "output_type": "stream",
     "text": [
      "True\n"
     ]
    }
   ],
   "source": [
    "set1 = {1, 2}\n",
    "set2 = {1, 2, 3}\n",
    "is_subset = set1.issubset(set2)\n",
    "print(is_subset)  \n"
   ]
  },
  {
   "cell_type": "markdown",
   "id": "700e05ab-3f08-48ce-bef5-2ca63817aa7b",
   "metadata": {},
   "source": [
    "# 6. Superset\n",
    "- Checks if all elements of another set are in the current set.\n",
    "- Method: issuperset()"
   ]
  },
  {
   "cell_type": "code",
   "execution_count": 33,
   "id": "f11d8278-091c-44c3-bd2b-8b835f718fb5",
   "metadata": {},
   "outputs": [
    {
     "name": "stdout",
     "output_type": "stream",
     "text": [
      "True\n"
     ]
    }
   ],
   "source": [
    "set1 = {1, 2, 3}\n",
    "set2 = {1, 2}\n",
    "is_superset = set1.issuperset(set2)\n",
    "print(is_superset)  \n"
   ]
  },
  {
   "cell_type": "markdown",
   "id": "081843ae-66eb-4a7a-8c8e-3034a124354f",
   "metadata": {},
   "source": [
    "# 7. Disjoint Sets\n",
    "- Checks if two sets have no elements in common.\n",
    "- Method: isdisjoint()"
   ]
  },
  {
   "cell_type": "code",
   "execution_count": 34,
   "id": "26bbced5-21a8-4b8e-87f7-28ff9854aa06",
   "metadata": {},
   "outputs": [
    {
     "name": "stdout",
     "output_type": "stream",
     "text": [
      "True\n"
     ]
    }
   ],
   "source": [
    "set1 = {1, 2, 3}\n",
    "set2 = {4, 5, 6}\n",
    "is_disjoint = set1.isdisjoint(set2)\n",
    "print(is_disjoint) \n"
   ]
  },
  {
   "cell_type": "code",
   "execution_count": null,
   "id": "1aebea0d-716e-40a2-a10b-b32b4d96cbdd",
   "metadata": {},
   "outputs": [],
   "source": []
  }
 ],
 "metadata": {
  "kernelspec": {
   "display_name": "Python 3 (ipykernel)",
   "language": "python",
   "name": "python3"
  },
  "language_info": {
   "codemirror_mode": {
    "name": "ipython",
    "version": 3
   },
   "file_extension": ".py",
   "mimetype": "text/x-python",
   "name": "python",
   "nbconvert_exporter": "python",
   "pygments_lexer": "ipython3",
   "version": "3.12.4"
  }
 },
 "nbformat": 4,
 "nbformat_minor": 5
}
